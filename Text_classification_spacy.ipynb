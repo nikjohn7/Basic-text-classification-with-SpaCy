{
  "nbformat": 4,
  "nbformat_minor": 0,
  "metadata": {
    "colab": {
      "name": "Text-classification-spacy.ipynb",
      "provenance": [],
      "collapsed_sections": [],
      "toc_visible": true,
      "machine_shape": "hm"
    },
    "kernelspec": {
      "name": "python3",
      "display_name": "Python 3"
    }
  },
  "cells": [
    {
      "cell_type": "markdown",
      "metadata": {
        "id": "view-in-github",
        "colab_type": "text"
      },
      "source": [
        "<a href=\"https://colab.research.google.com/github/satyajitghana/TSAI-DeepVision-EVA4.0/blob/master/Utils/Colab_25GBRAM_GPU.ipynb\" target=\"_parent\"><img src=\"https://colab.research.google.com/assets/colab-badge.svg\" alt=\"Open In Colab\"/></a>"
      ]
    },
    {
      "cell_type": "markdown",
      "metadata": {
        "id": "EdHVQrqyDB50",
        "colab_type": "text"
      },
      "source": [
        "# Memory Information"
      ]
    },
    {
      "cell_type": "code",
      "metadata": {
        "id": "E58HaeA6CsM9",
        "colab_type": "code",
        "outputId": "9d4f3694-2d47-4c70-aa85-695c91d57dc1",
        "colab": {
          "base_uri": "https://localhost:8080/",
          "height": 102
        }
      },
      "source": [
        "import psutil\n",
        "def get_size(bytes, suffix=\"B\"):\n",
        "    factor = 1024\n",
        "    for unit in [\"\", \"K\", \"M\", \"G\", \"T\", \"P\"]:\n",
        "        if bytes < factor:\n",
        "            return f\"{bytes:.2f}{unit}{suffix}\"\n",
        "        bytes /= factor\n",
        "print(\"=\"*40, \"Memory Information\", \"=\"*40)\n",
        "svmem = psutil.virtual_memory()\n",
        "print(f\"Total: {get_size(svmem.total)}\") ; print(f\"Available: {get_size(svmem.available)}\")\n",
        "print(f\"Used: {get_size(svmem.used)}\") ; print(f\"Percentage: {svmem.percent}%\")"
      ],
      "execution_count": 0,
      "outputs": [
        {
          "output_type": "stream",
          "text": [
            "======================================== Memory Information ========================================\n",
            "Total: 25.51GB\n",
            "Available: 24.54GB\n",
            "Used: 634.74MB\n",
            "Percentage: 3.8%\n"
          ],
          "name": "stdout"
        }
      ]
    },
    {
      "cell_type": "markdown",
      "metadata": {
        "id": "FgVfBlvZDEja",
        "colab_type": "text"
      },
      "source": [
        "# GPU Information"
      ]
    },
    {
      "cell_type": "code",
      "metadata": {
        "id": "rxlkxvkrCyin",
        "colab_type": "code",
        "outputId": "99916b4e-f42b-42c4-f932-fd6a698ccccb",
        "colab": {
          "base_uri": "https://localhost:8080/",
          "height": 306
        }
      },
      "source": [
        "! nvidia-smi"
      ],
      "execution_count": 0,
      "outputs": [
        {
          "output_type": "stream",
          "text": [
            "Sat May 16 10:39:27 2020       \n",
            "+-----------------------------------------------------------------------------+\n",
            "| NVIDIA-SMI 440.82       Driver Version: 418.67       CUDA Version: 10.1     |\n",
            "|-------------------------------+----------------------+----------------------+\n",
            "| GPU  Name        Persistence-M| Bus-Id        Disp.A | Volatile Uncorr. ECC |\n",
            "| Fan  Temp  Perf  Pwr:Usage/Cap|         Memory-Usage | GPU-Util  Compute M. |\n",
            "|===============================+======================+======================|\n",
            "|   0  Tesla P100-PCIE...  Off  | 00000000:00:04.0 Off |                    0 |\n",
            "| N/A   36C    P0    26W / 250W |      0MiB / 16280MiB |      0%      Default |\n",
            "+-------------------------------+----------------------+----------------------+\n",
            "                                                                               \n",
            "+-----------------------------------------------------------------------------+\n",
            "| Processes:                                                       GPU Memory |\n",
            "|  GPU       PID   Type   Process name                             Usage      |\n",
            "|=============================================================================|\n",
            "|  No running processes found                                                 |\n",
            "+-----------------------------------------------------------------------------+\n"
          ],
          "name": "stdout"
        }
      ]
    },
    {
      "cell_type": "code",
      "metadata": {
        "id": "OxjkuMsvwBeo",
        "colab_type": "code",
        "outputId": "ed9b61cd-1b38-4db2-c79e-4fb4918cfaea",
        "colab": {
          "base_uri": "https://localhost:8080/",
          "height": 121
        }
      },
      "source": [
        "from google.colab import drive\n",
        "drive.mount('/content/drive',force_remount=True)"
      ],
      "execution_count": 2,
      "outputs": [
        {
          "output_type": "stream",
          "text": [
            "Go to this URL in a browser: https://accounts.google.com/o/oauth2/auth?client_id=947318989803-6bn6qk8qdgf4n4g3pfee6491hc0brc4i.apps.googleusercontent.com&redirect_uri=urn%3aietf%3awg%3aoauth%3a2.0%3aoob&response_type=code&scope=email%20https%3a%2f%2fwww.googleapis.com%2fauth%2fdocs.test%20https%3a%2f%2fwww.googleapis.com%2fauth%2fdrive%20https%3a%2f%2fwww.googleapis.com%2fauth%2fdrive.photos.readonly%20https%3a%2f%2fwww.googleapis.com%2fauth%2fpeopleapi.readonly\n",
            "\n",
            "Enter your authorization code:\n",
            "··········\n",
            "Mounted at /content/drive\n"
          ],
          "name": "stdout"
        }
      ]
    },
    {
      "cell_type": "code",
      "metadata": {
        "id": "OY0ZoVmGwPGp",
        "colab_type": "code",
        "outputId": "1f052025-56f0-4020-a115-a5c2a7475458",
        "colab": {
          "base_uri": "https://localhost:8080/",
          "height": 34
        }
      },
      "source": [
        "!ls drive/My\\ Drive/ML-work/NLP/text\\ classification\\ with\\ spacy/"
      ],
      "execution_count": 1,
      "outputs": [
        {
          "output_type": "stream",
          "text": [
            "research_paper.csv\n"
          ],
          "name": "stdout"
        }
      ]
    },
    {
      "cell_type": "code",
      "metadata": {
        "id": "wsZ1Dy2BwcuG",
        "colab_type": "code",
        "outputId": "c77d15a8-b84a-47e2-9b46-61c5e0e6878a",
        "colab": {
          "base_uri": "https://localhost:8080/",
          "height": 50
        }
      },
      "source": [
        "%cd drive/My\\ Drive/ML-work/NLP/text\\ classification\\ with\\ spacy/\n",
        "# !ls\n",
        "!pwd"
      ],
      "execution_count": 2,
      "outputs": [
        {
          "output_type": "stream",
          "text": [
            "/content/drive/My Drive/ML-work/NLP/text classification with spacy\n",
            "/content/drive/My Drive/ML-work/NLP/text classification with spacy\n"
          ],
          "name": "stdout"
        }
      ]
    },
    {
      "cell_type": "markdown",
      "metadata": {
        "id": "IWHtfLizDp1o",
        "colab_type": "text"
      },
      "source": [
        "Import the necessary modules"
      ]
    },
    {
      "cell_type": "code",
      "metadata": {
        "id": "jyDODoaWC6KI",
        "colab_type": "code",
        "outputId": "b652ddde-8ffa-42c5-dbd8-fd0e45d95ef4",
        "colab": {
          "base_uri": "https://localhost:8080/",
          "height": 121
        }
      },
      "source": [
        "import pandas as pd\n",
        "import numpy as np\n",
        "import seaborn as sns\n",
        "import matplotlib.pyplot as plt\n",
        "import base64\n",
        "import string\n",
        "import re\n",
        "from collections import Counter\n",
        "import nltk\n",
        "from nltk.corpus import stopwords\n",
        "nltk.download(\"stopwords\")"
      ],
      "execution_count": 4,
      "outputs": [
        {
          "output_type": "stream",
          "text": [
            "/usr/local/lib/python3.6/dist-packages/statsmodels/tools/_testing.py:19: FutureWarning: pandas.util.testing is deprecated. Use the functions in the public API at pandas.testing instead.\n",
            "  import pandas.util.testing as tm\n"
          ],
          "name": "stderr"
        },
        {
          "output_type": "stream",
          "text": [
            "[nltk_data] Downloading package stopwords to /root/nltk_data...\n",
            "[nltk_data]   Package stopwords is already up-to-date!\n"
          ],
          "name": "stdout"
        },
        {
          "output_type": "execute_result",
          "data": {
            "text/plain": [
              "True"
            ]
          },
          "metadata": {
            "tags": []
          },
          "execution_count": 4
        }
      ]
    },
    {
      "cell_type": "code",
      "metadata": {
        "id": "OaQqYTsNxQhI",
        "colab_type": "code",
        "colab": {}
      },
      "source": [
        "stopwords = stopwords.words('english')"
      ],
      "execution_count": 0,
      "outputs": []
    },
    {
      "cell_type": "markdown",
      "metadata": {
        "id": "-y2x2MczDyDT",
        "colab_type": "text"
      },
      "source": [
        "Preview our dataset. The dataset consists of 2507 short research paper titles, which have been classified into 5 categories (by conferences) "
      ]
    },
    {
      "cell_type": "code",
      "metadata": {
        "id": "x7efHsyItLHQ",
        "colab_type": "code",
        "outputId": "4959957f-d540-4a71-f114-fb220760bb66",
        "colab": {
          "base_uri": "https://localhost:8080/",
          "height": 195
        }
      },
      "source": [
        "df = pd.read_csv('research_paper.csv')\n",
        "df.head()"
      ],
      "execution_count": 6,
      "outputs": [
        {
          "output_type": "execute_result",
          "data": {
            "text/html": [
              "<div>\n",
              "<style scoped>\n",
              "    .dataframe tbody tr th:only-of-type {\n",
              "        vertical-align: middle;\n",
              "    }\n",
              "\n",
              "    .dataframe tbody tr th {\n",
              "        vertical-align: top;\n",
              "    }\n",
              "\n",
              "    .dataframe thead th {\n",
              "        text-align: right;\n",
              "    }\n",
              "</style>\n",
              "<table border=\"1\" class=\"dataframe\">\n",
              "  <thead>\n",
              "    <tr style=\"text-align: right;\">\n",
              "      <th></th>\n",
              "      <th>Title</th>\n",
              "      <th>Conference</th>\n",
              "    </tr>\n",
              "  </thead>\n",
              "  <tbody>\n",
              "    <tr>\n",
              "      <th>0</th>\n",
              "      <td>Innovation in Database Management: Computer Sc...</td>\n",
              "      <td>VLDB</td>\n",
              "    </tr>\n",
              "    <tr>\n",
              "      <th>1</th>\n",
              "      <td>High performance prime field multiplication fo...</td>\n",
              "      <td>ISCAS</td>\n",
              "    </tr>\n",
              "    <tr>\n",
              "      <th>2</th>\n",
              "      <td>enchanted scissors: a scissor interface for su...</td>\n",
              "      <td>SIGGRAPH</td>\n",
              "    </tr>\n",
              "    <tr>\n",
              "      <th>3</th>\n",
              "      <td>Detection of channel degradation attack by Int...</td>\n",
              "      <td>INFOCOM</td>\n",
              "    </tr>\n",
              "    <tr>\n",
              "      <th>4</th>\n",
              "      <td>Pinning a Complex Network through the Betweenn...</td>\n",
              "      <td>ISCAS</td>\n",
              "    </tr>\n",
              "  </tbody>\n",
              "</table>\n",
              "</div>"
            ],
            "text/plain": [
              "                                               Title Conference\n",
              "0  Innovation in Database Management: Computer Sc...       VLDB\n",
              "1  High performance prime field multiplication fo...      ISCAS\n",
              "2  enchanted scissors: a scissor interface for su...   SIGGRAPH\n",
              "3  Detection of channel degradation attack by Int...    INFOCOM\n",
              "4  Pinning a Complex Network through the Betweenn...      ISCAS"
            ]
          },
          "metadata": {
            "tags": []
          },
          "execution_count": 6
        }
      ]
    },
    {
      "cell_type": "markdown",
      "metadata": {
        "id": "Smy5sMqLEBeS",
        "colab_type": "text"
      },
      "source": [
        "Check for null valued cells"
      ]
    },
    {
      "cell_type": "code",
      "metadata": {
        "id": "4rWZ7ljawuy8",
        "colab_type": "code",
        "colab": {
          "base_uri": "https://localhost:8080/",
          "height": 67
        },
        "outputId": "1a660296-e68d-4c36-cc9d-f708b6c15a73"
      },
      "source": [
        "df.isnull().sum()"
      ],
      "execution_count": 7,
      "outputs": [
        {
          "output_type": "execute_result",
          "data": {
            "text/plain": [
              "Title         0\n",
              "Conference    0\n",
              "dtype: int64"
            ]
          },
          "metadata": {
            "tags": []
          },
          "execution_count": 7
        }
      ]
    },
    {
      "cell_type": "code",
      "metadata": {
        "id": "XiHFzde8wvQs",
        "colab_type": "code",
        "colab": {
          "base_uri": "https://localhost:8080/",
          "height": 84
        },
        "outputId": "2eee70c6-f199-4623-80b3-6489ca1d6d72"
      },
      "source": [
        "from sklearn.model_selection import train_test_split\n",
        "train, test = train_test_split(df, test_size=0.20, random_state=42)\n",
        "\n",
        "print('Research paper title sample:', train['Title'].iloc[0])\n",
        "print('Conference associated with the paper:', train['Conference'].iloc[0])\n",
        "print('Shape of training data:', train.shape)\n",
        "print('Shape of testing data', test.shape)"
      ],
      "execution_count": 8,
      "outputs": [
        {
          "output_type": "stream",
          "text": [
            "Research paper title sample: Textual and contextual patterns for sentiment analysis over microblogs.\n",
            "Conference associated with the paper: WWW\n",
            "Shape of training data: (2005, 2)\n",
            "Shape of testing data (502, 2)\n"
          ],
          "name": "stdout"
        }
      ]
    },
    {
      "cell_type": "markdown",
      "metadata": {
        "id": "oiReZ54CEJiE",
        "colab_type": "text"
      },
      "source": [
        "Plot distribution of various conferences"
      ]
    },
    {
      "cell_type": "code",
      "metadata": {
        "id": "klkd0wniwvXl",
        "colab_type": "code",
        "colab": {
          "base_uri": "https://localhost:8080/",
          "height": 265
        },
        "outputId": "35487df6-b28d-4725-d7b3-4bf90dd9722c"
      },
      "source": [
        "fig = plt.figure(figsize=(8,4))\n",
        "sns.barplot(x = train['Conference'].unique(), y=train['Conference'].value_counts())\n",
        "plt.show()"
      ],
      "execution_count": 9,
      "outputs": [
        {
          "output_type": "display_data",
          "data": {
            "image/png": "[encoded data removed]",
            "text/plain": [
              "<Figure size 576x288 with 1 Axes>"
            ]
          },
          "metadata": {
            "tags": [],
            "needs_background": "light"
          }
        }
      ]
    },
    {
      "cell_type": "markdown",
      "metadata": {
        "id": "gr_iY1anMxt-",
        "colab_type": "text"
      },
      "source": [
        "We now preprocess the text.\n",
        "Then we take the top 2 conferences, WWW and ISCAS, and find top features from each of these conferences"
      ]
    },
    {
      "cell_type": "code",
      "metadata": {
        "id": "59tjxFpIwvd0",
        "colab_type": "code",
        "colab": {}
      },
      "source": [
        "import spacy\n",
        "\n",
        "nlp = spacy.load('en_core_web_sm')\n",
        "punctuations = string.punctuation\n",
        "\n",
        "# Define function to cleanup text by removing personal pronouns, stopwords, and puncuation\n",
        "def cleanup_text(docs, logging=False):\n",
        "    texts = []\n",
        "    counter = 1\n",
        "    for doc in docs:\n",
        "        if counter % 1000 == 0 and logging:\n",
        "            print(\"Processed %d out of %d documents.\" % (counter, len(docs)))\n",
        "        counter += 1\n",
        "        doc = nlp(doc, disable=['parser', 'ner'])\n",
        "        tokens = [tok.lemma_.lower().strip() for tok in doc if tok.lemma_ != '-PRON-']\n",
        "        tokens = [tok for tok in tokens if tok not in stopwords and tok not in punctuations]\n",
        "        tokens = ' '.join(tokens)\n",
        "        texts.append(tokens)\n",
        "    return pd.Series(texts)"
      ],
      "execution_count": 0,
      "outputs": []
    },
    {
      "cell_type": "code",
      "metadata": {
        "id": "la-VDk_Z3h2w",
        "colab_type": "code",
        "colab": {}
      },
      "source": [
        "WWW_text = [text for text in train[train['Conference'] == 'WWW']['Title']]\n",
        "\n",
        "IS_text = [text for text in train[train['Conference'] == 'ISCAS']['Title']]\n",
        "\n",
        "WWW_clean = cleanup_text(WWW_text)\n",
        "WWW_clean = ' '.join(WWW_clean).split()\n",
        "\n",
        "IS_clean = cleanup_text(IS_text)\n",
        "IS_clean = ' '.join(IS_clean).split()\n",
        "\n",
        "WWW_counts = Counter(WWW_clean)\n",
        "IS_counts = Counter(IS_clean)"
      ],
      "execution_count": 0,
      "outputs": []
    },
    {
      "cell_type": "code",
      "metadata": {
        "id": "Ij8dETo83iHd",
        "colab_type": "code",
        "colab": {
          "base_uri": "https://localhost:8080/",
          "height": 390
        },
        "outputId": "ac329fa5-e33a-482b-cc83-d26a6d4c5cd0"
      },
      "source": [
        "INFO_common_words = [word[0] for word in WWW_counts.most_common(20)]\n",
        "INFO_common_counts = [word[1] for word in WWW_counts.most_common(20)]\n",
        "\n",
        "fig = plt.figure(figsize=(18,6))\n",
        "sns.barplot(x=INFO_common_words, y=INFO_common_counts)\n",
        "plt.title('Most Common Words used in the research papers for conference WWW')\n",
        "plt.show()\n"
      ],
      "execution_count": 30,
      "outputs": [
        {
          "output_type": "display_data",
          "data": {
            "image/png": "[encoded data removed]",
            "text/plain": [
              "<Figure size 1296x432 with 1 Axes>"
            ]
          },
          "metadata": {
            "tags": [],
            "needs_background": "light"
          }
        }
      ]
    },
    {
      "cell_type": "code",
      "metadata": {
        "id": "vL87IyJY3iNm",
        "colab_type": "code",
        "colab": {
          "base_uri": "https://localhost:8080/",
          "height": 390
        },
        "outputId": "a5935a54-6afc-44ea-cf47-f61fde98b138"
      },
      "source": [
        "IS_common_words = [word[0] for word in IS_counts.most_common(20)]\n",
        "IS_common_counts = [word[1] for word in IS_counts.most_common(20)]\n",
        "\n",
        "fig = plt.figure(figsize=(18,6))\n",
        "sns.barplot(x=IS_common_words, y=IS_common_counts)\n",
        "plt.title('Most Common Words used in the research papers for conference ISCAS')\n",
        "plt.show()"
      ],
      "execution_count": 12,
      "outputs": [
        {
          "output_type": "display_data",
          "data": {
            "image/png": "[encoded data removed]",
            "text/plain": [
              "<Figure size 1296x432 with 1 Axes>"
            ]
          },
          "metadata": {
            "tags": [],
            "needs_background": "light"
          }
        }
      ]
    },
    {
      "cell_type": "code",
      "metadata": {
        "id": "C6eTDyfk3iTY",
        "colab_type": "code",
        "colab": {
          "base_uri": "https://localhost:8080/",
          "height": 195
        },
        "outputId": "881af700-c730-4729-e470-977a050754b6"
      },
      "source": [
        "test.head()"
      ],
      "execution_count": 13,
      "outputs": [
        {
          "output_type": "execute_result",
          "data": {
            "text/html": [
              "<div>\n",
              "<style scoped>\n",
              "    .dataframe tbody tr th:only-of-type {\n",
              "        vertical-align: middle;\n",
              "    }\n",
              "\n",
              "    .dataframe tbody tr th {\n",
              "        vertical-align: top;\n",
              "    }\n",
              "\n",
              "    .dataframe thead th {\n",
              "        text-align: right;\n",
              "    }\n",
              "</style>\n",
              "<table border=\"1\" class=\"dataframe\">\n",
              "  <thead>\n",
              "    <tr style=\"text-align: right;\">\n",
              "      <th></th>\n",
              "      <th>Title</th>\n",
              "      <th>Conference</th>\n",
              "    </tr>\n",
              "  </thead>\n",
              "  <tbody>\n",
              "    <tr>\n",
              "      <th>2121</th>\n",
              "      <td>Architectural Issues in Distributed Data Base ...</td>\n",
              "      <td>VLDB</td>\n",
              "    </tr>\n",
              "    <tr>\n",
              "      <th>56</th>\n",
              "      <td>Compressive sampling of EMG bio-signals.</td>\n",
              "      <td>ISCAS</td>\n",
              "    </tr>\n",
              "    <tr>\n",
              "      <th>2479</th>\n",
              "      <td>User-Centered Modeling of Interactive Web Sites.</td>\n",
              "      <td>WWW</td>\n",
              "    </tr>\n",
              "    <tr>\n",
              "      <th>1292</th>\n",
              "      <td>A Decomposition Method for Transmission Schedu...</td>\n",
              "      <td>INFOCOM</td>\n",
              "    </tr>\n",
              "    <tr>\n",
              "      <th>1599</th>\n",
              "      <td>ASCENT: Adaptive Self-Configuring sEnsor Netwo...</td>\n",
              "      <td>INFOCOM</td>\n",
              "    </tr>\n",
              "  </tbody>\n",
              "</table>\n",
              "</div>"
            ],
            "text/plain": [
              "                                                  Title Conference\n",
              "2121  Architectural Issues in Distributed Data Base ...       VLDB\n",
              "56             Compressive sampling of EMG bio-signals.      ISCAS\n",
              "2479   User-Centered Modeling of Interactive Web Sites.        WWW\n",
              "1292  A Decomposition Method for Transmission Schedu...    INFOCOM\n",
              "1599  ASCENT: Adaptive Self-Configuring sEnsor Netwo...    INFOCOM"
            ]
          },
          "metadata": {
            "tags": []
          },
          "execution_count": 13
        }
      ]
    },
    {
      "cell_type": "markdown",
      "metadata": {
        "id": "Kh5KD40DRb-l",
        "colab_type": "text"
      },
      "source": [
        "Some more text processing"
      ]
    },
    {
      "cell_type": "code",
      "metadata": {
        "id": "dy7ukIDJ66WW",
        "colab_type": "code",
        "colab": {
          "base_uri": "https://localhost:8080/",
          "height": 70
        },
        "outputId": "8856b538-7dc3-43bd-b44d-90763c4b5a60"
      },
      "source": [
        "from sklearn.feature_extraction.text import CountVectorizer\n",
        "from sklearn.base import TransformerMixin\n",
        "from sklearn.pipeline import Pipeline\n",
        "from sklearn.svm import LinearSVC\n",
        "from sklearn.feature_extraction.stop_words import ENGLISH_STOP_WORDS\n",
        "from sklearn.metrics import accuracy_score\n",
        "from nltk.corpus import stopwords\n",
        "import string\n",
        "import re\n",
        "import spacy\n",
        "spacy.load('en')\n",
        "from spacy.lang.en import English\n",
        "parser = English()"
      ],
      "execution_count": 14,
      "outputs": [
        {
          "output_type": "stream",
          "text": [
            "/usr/local/lib/python3.6/dist-packages/sklearn/utils/deprecation.py:144: FutureWarning: The sklearn.feature_extraction.stop_words module is  deprecated in version 0.22 and will be removed in version 0.24. The corresponding classes / functions should instead be imported from sklearn.feature_extraction.text. Anything that cannot be imported from sklearn.feature_extraction.text is now part of the private API.\n",
            "  warnings.warn(message, FutureWarning)\n"
          ],
          "name": "stderr"
        }
      ]
    },
    {
      "cell_type": "code",
      "metadata": {
        "id": "7K6x-HlE66dC",
        "colab_type": "code",
        "colab": {}
      },
      "source": [
        "STOPLIST = set(stopwords.words('english') + list(ENGLISH_STOP_WORDS))\n",
        "SYMBOLS = \" \".join(string.punctuation).split(\" \") + [\"-\", \"...\", \"”\", \"”\"]"
      ],
      "execution_count": 0,
      "outputs": []
    },
    {
      "cell_type": "code",
      "metadata": {
        "id": "_P-M2FrT66it",
        "colab_type": "code",
        "colab": {}
      },
      "source": [
        "class CleanTextTransformer(TransformerMixin):\n",
        "    def transform(self, X, **transform_params):\n",
        "        return [cleanText(text) for text in X]\n",
        "    def fit(self, X, y=None, **fit_params):\n",
        "        return self\n",
        "    def get_params(self, deep=True):\n",
        "        return {}\n",
        "    \n",
        "def cleanText(text):\n",
        "    text = text.strip().replace(\"\\n\", \" \").replace(\"\\r\", \" \")\n",
        "    text = text.lower()\n",
        "    return text\n",
        "\n",
        "def tokenizeText(sample):\n",
        "    tokens = parser(sample)\n",
        "    lemmas = []\n",
        "    for tok in tokens:\n",
        "        lemmas.append(tok.lemma_.lower().strip() if tok.lemma_ != \"-PRON-\" else tok.lower_)\n",
        "    tokens = lemmas\n",
        "    tokens = [tok for tok in tokens if tok not in STOPLIST]\n",
        "    tokens = [tok for tok in tokens if tok not in SYMBOLS]\n",
        "    return tokens"
      ],
      "execution_count": 0,
      "outputs": []
    },
    {
      "cell_type": "markdown",
      "metadata": {
        "id": "h0wRhjakRjoY",
        "colab_type": "text"
      },
      "source": [
        "Now, we train the model and obtain accuracy. We also print out the top 10 features from the first and secong classes"
      ]
    },
    {
      "cell_type": "code",
      "metadata": {
        "id": "1HDMyCYr66oT",
        "colab_type": "code",
        "colab": {
          "base_uri": "https://localhost:8080/",
          "height": 420
        },
        "outputId": "ab6a2e62-fef5-40eb-f070-7b53b20b66b6"
      },
      "source": [
        "def printNMostInformative(vectorizer, clf, N):\n",
        "    feature_names = vectorizer.get_feature_names()\n",
        "    coefs_with_fns = sorted(zip(clf.coef_[0], feature_names))\n",
        "    topClass1 = coefs_with_fns[:N]\n",
        "    topClass2 = coefs_with_fns[:-(N + 1):-1]\n",
        "    print(\"Class 1 best: \")\n",
        "    for feat in topClass1:\n",
        "        print(feat)\n",
        "    print(\"Class 2 best: \")\n",
        "    for feat in topClass2:\n",
        "        print(feat)\n",
        "\n",
        "vectorizer = CountVectorizer(tokenizer=tokenizeText, ngram_range=(1,1))\n",
        "clf = LinearSVC()\n",
        "pipe = Pipeline([('cleanText', CleanTextTransformer()), ('vectorizer', vectorizer), ('clf', clf)])\n",
        "\n",
        "# data\n",
        "train1 = train['Title'].tolist()\n",
        "labelsTrain1 = train['Conference'].tolist()\n",
        "\n",
        "test1 = test['Title'].tolist()\n",
        "labelsTest1 = test['Conference'].tolist()\n",
        "# train\n",
        "pipe.fit(train1, labelsTrain1)\n",
        "\n",
        "# test\n",
        "preds = pipe.predict(test1)\n",
        "print(\"accuracy:\", accuracy_score(labelsTest1, preds))\n",
        "print(\"Top 10 features used to predict: \")\n",
        "\n",
        "printNMostInformative(vectorizer, clf, 10)\n",
        "\n",
        "pipe = Pipeline([('cleanText', CleanTextTransformer()), ('vectorizer', vectorizer)])\n",
        "transform = pipe.fit_transform(train1, labelsTrain1)\n",
        "vocab = vectorizer.get_feature_names()\n",
        "\n",
        "for i in range(len(train1)):\n",
        "    s = \"\"\n",
        "    indexIntoVocab = transform.indices[transform.indptr[i]:transform.indptr[i+1]]\n",
        "    numOccurences = transform.data[transform.indptr[i]:transform.indptr[i+1]]\n",
        "    for idx, num in zip(indexIntoVocab, numOccurences):\n",
        "        s += str((vocab[idx], num))"
      ],
      "execution_count": 17,
      "outputs": [
        {
          "output_type": "stream",
          "text": [
            "accuracy: 0.7390438247011952\n",
            "Top 10 features used to predict: \n",
            "Class 1 best: \n",
            "(-0.9393092073658282, 'resources')\n",
            "(-0.9049255821898791, 'architectures')\n",
            "(-0.8322156422946219, 'wimax')\n",
            "(-0.8024003144806031, 'social')\n",
            "(-0.7427562553788375, 'chip')\n",
            "(-0.7051538657316918, 'chaotic')\n",
            "(-0.7042578553543661, 'road')\n",
            "(-0.6705466812478927, 'milgram')\n",
            "(-0.6454127203714551, 'semantic')\n",
            "(-0.6153366071385818, 'databases')\n",
            "Class 2 best: \n",
            "(1.202542338833826, 'speccast')\n",
            "(0.9592654903899118, 'manets')\n",
            "(0.9194521876049861, 'measuring')\n",
            "(0.8931964947994767, 'networks')\n",
            "(0.8596754296648936, 'qos')\n",
            "(0.8406204072499583, 'queueing')\n",
            "(0.8334767304879102, 'ip')\n",
            "(0.8319932183783335, 'policy')\n",
            "(0.8079394714484975, 'split')\n",
            "(0.8058493772532035, 'collection')\n"
          ],
          "name": "stdout"
        }
      ]
    },
    {
      "cell_type": "code",
      "metadata": {
        "id": "qCto1FmA66tV",
        "colab_type": "code",
        "colab": {
          "base_uri": "https://localhost:8080/",
          "height": 218
        },
        "outputId": "ecca6f29-0d8f-49e9-a9f5-5083ee266715"
      },
      "source": [
        "from sklearn import metrics\n",
        "\n",
        "print(metrics.classification_report(labelsTest1, preds, target_names=df['Conference'].unique()))"
      ],
      "execution_count": 20,
      "outputs": [
        {
          "output_type": "stream",
          "text": [
            "              precision    recall  f1-score   support\n",
            "\n",
            "        VLDB       0.83      0.74      0.78       108\n",
            "       ISCAS       0.88      0.84      0.86       178\n",
            "    SIGGRAPH       0.64      0.73      0.69        67\n",
            "     INFOCOM       0.56      0.62      0.59        73\n",
            "         WWW       0.59      0.62      0.61        76\n",
            "\n",
            "    accuracy                           0.74       502\n",
            "   macro avg       0.70      0.71      0.70       502\n",
            "weighted avg       0.75      0.74      0.74       502\n",
            "\n"
          ],
          "name": "stdout"
        }
      ]
    },
    {
      "cell_type": "code",
      "metadata": {
        "id": "9R0GFoaD66yK",
        "colab_type": "code",
        "colab": {}
      },
      "source": [
        ""
      ],
      "execution_count": 0,
      "outputs": []
    }
  ]
}